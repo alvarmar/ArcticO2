{
 "cells": [
  {
   "cell_type": "markdown",
   "metadata": {},
   "source": [
    "This script calculates the linear regression and correction factor of all winkler samples. \n",
    "CF is calculated by matching neutral density of CTD files with sigma-theta from Winkler samples. "
   ]
  },
  {
   "cell_type": "code",
   "execution_count": 12,
   "metadata": {},
   "outputs": [],
   "source": [
    "# Let's find the linear regression for all stations: \n",
    "import pandas as pd\n",
    "import numpy as np\n",
    "import matplotlib.pyplot as plt\n",
    "import glob\n",
    "import colorcet as ccmport \n",
    "import seaborn as sns\n",
    "import colorcet as cc\n",
    "# Get CSV files list from a folder\n",
    "path ='//Users/mariacristinaalvarez/Documents/NorthPoleO2/HLY2022_data/Log/'\n",
    "csv_files = glob.glob(path + \"/*.csv\")\n",
    "\n",
    "# This creates a list of dataframes\n",
    "df_list = (pd.read_csv(file) for file in csv_files)\n",
    "\n",
    "# Concatenate all DataFrames\n",
    "stations_df = pd.concat(df_list)\n",
    "\n",
    "#Create a bottle file with all winkler values and other parameters measured when sampling:\n",
    "#stations_df.to_csv('bottlefile_hly2202.csv')\n",
    "\n",
    "#Calculating potential density for each bottle sample drawn:\n",
    "stations_df['sigma-theta']= stations_df['Sigma']*1000 - 1000\n"
   ]
  },
  {
   "cell_type": "markdown",
   "metadata": {},
   "source": [
    "Matching sigma-thetha Winkler density with Thermo_NeutralDensity from CTD files:\n",
    "1. Need to import \"pre\" ctd sensor files from station 0 to station 8 with different table format. (First CTD O2 sensor)\n",
    "2. then, I import the \"post\" sensor files from station 11 to station 53 (Second CTD O2 sensor)\n"
   ]
  },
  {
   "cell_type": "markdown",
   "metadata": {},
   "source": [
    "Importing all CTD files in .cnv format. Concatenating them into one single dataframe \"all_df\""
   ]
  },
  {
   "cell_type": "code",
   "execution_count": 16,
   "metadata": {},
   "outputs": [],
   "source": [
    "#Import required packages:\n",
    "import matplotlib.pyplot as plt\n",
    "from pathlib import Path\n",
    "\n",
    "#Define path name for pre ctd files#\n",
    "path1 = Path(\"/Users/mariacristinaalvarez/Documents/NorthPoleO2/HLY2022_data/CTD_Northbound/\")\n",
    "csv_files1 = path1.glob(\"*Pre1dbar.cnv\")\n",
    "\n",
    "#import pre ctd files\n",
    "pre_list = [pd.read_csv(file, encoding=\"ISO-8859-1\", delim_whitespace=True, skiprows=319, header=None)\n",
    "               .assign(filename=file.stem.split(\"_\")[1]) for file in csv_files1]\n",
    "pre_df = pd.concat(pre_list) #concat pre ctd files\n",
    "\n",
    "#Define path name for post ctd files/Northbound\n",
    "path2 = Path(\"/Users/mariacristinaalvarez/Documents/NorthPoleO2/HLY2022_data/CTD_Northbound/\")\n",
    "csv_files2 = path2.glob(\"*Pcaldown1dbar.cnv\")\n",
    "\n",
    "#import post Northbound ctd files\n",
    "postnorth_list = [pd.read_csv(file2, encoding=\"ISO-8859-1\", delim_whitespace=True, skiprows=311, header=None)\n",
    "               .assign(filename=file2.stem.split(\"_\")[1]) for file2 in csv_files2]\n",
    "\n",
    "postnorth_df = pd.concat(postnorth_list) #concat post northbound ctd files\n",
    "\n",
    "#Define path name for post ctd files/Southbound\n",
    "path3 = Path(\"/Users/mariacristinaalvarez/Documents/NorthPoleO2/HLY2022_data/CTD_Southbound/\")\n",
    "csv_files3 = path3.glob(\"*Pcaldown1dbar.cnv\")\n",
    "\n",
    "#import post Southbound ctd files\n",
    "postsouth_list = [pd.read_csv(file3, encoding=\"ISO-8859-1\", delim_whitespace=True, skiprows=311, header=None)\n",
    "               .assign(filename=file3.stem.split(\"_\")[1]) for file3 in csv_files3]\n",
    "\n",
    "postsouth_df = pd.concat(postsouth_list) #concat post southbound ctd files\n",
    "\n",
    "# Concatenate all DataFrames\n",
    "all_df = pd.concat([pre_df, postnorth_df, postsouth_df])"
   ]
  },
  {
   "cell_type": "markdown",
   "metadata": {},
   "source": [
    "To comply with TEOS-10 standards, we will calulate Abosolute Salinity, Conservative Temperature with gsw package. \n",
    "Also, thermodynamic neutral density will be calculated from  Remi Tailleux, U. of Reading. "
   ]
  },
  {
   "cell_type": "code",
   "execution_count": null,
   "metadata": {},
   "outputs": [],
   "source": []
  }
 ],
 "metadata": {
  "kernelspec": {
   "display_name": "pygmt",
   "language": "python",
   "name": "python3"
  },
  "language_info": {
   "codemirror_mode": {
    "name": "ipython",
    "version": 3
   },
   "file_extension": ".py",
   "mimetype": "text/x-python",
   "name": "python",
   "nbconvert_exporter": "python",
   "pygments_lexer": "ipython3",
   "version": "3.10.13"
  }
 },
 "nbformat": 4,
 "nbformat_minor": 2
}
